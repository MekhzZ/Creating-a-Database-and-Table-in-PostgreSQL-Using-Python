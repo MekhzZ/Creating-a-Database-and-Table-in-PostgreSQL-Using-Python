{
 "cells": [
  {
   "cell_type": "markdown",
   "id": "44390e0f-6820-4d54-b9c3-34921cc5a23f",
   "metadata": {},
   "source": [
    "Creating database and table in postgreSQL using python"
   ]
  },
  {
   "cell_type": "code",
   "execution_count": 1,
   "id": "9ec7c0a0-e90e-4672-814c-44c5d42daf87",
   "metadata": {},
   "outputs": [],
   "source": [
    "# importing libraries\n",
    "import psycopg2"
   ]
  },
  {
   "cell_type": "code",
   "execution_count": 2,
   "id": "0478b0a7-a6bf-467f-81f3-2b331b038de7",
   "metadata": {},
   "outputs": [
    {
     "name": "stdout",
     "output_type": "stream",
     "text": [
      "data connected successfully\n"
     ]
    }
   ],
   "source": [
    "# connecting postgresql database\n",
    "\n",
    "try:\n",
    "    conn = psycopg2.connect(\"host=localhost dbname=postgres user=postgres password=1234\")\n",
    "    print(\"data connected successfully\")\n",
    "except psycopg2.Error as e:\n",
    "    print(e)"
   ]
  },
  {
   "cell_type": "code",
   "execution_count": 3,
   "id": "d2560a4b-bdeb-43e3-80e7-6e565164c4c8",
   "metadata": {},
   "outputs": [
    {
     "name": "stdout",
     "output_type": "stream",
     "text": [
      "cursor added\n"
     ]
    }
   ],
   "source": [
    "# adding cursor \n",
    "\n",
    "try:\n",
    "    cur = conn.cursor()\n",
    "    print(\"cursor added\")\n",
    "except psycopg2.Error as e:\n",
    "    print(e)"
   ]
  },
  {
   "cell_type": "code",
   "execution_count": 4,
   "id": "09e1f679-9327-4f61-a333-1348a632879b",
   "metadata": {},
   "outputs": [],
   "source": [
    "conn.set_session(autocommit=True) # autocommit for any queries"
   ]
  },
  {
   "cell_type": "code",
   "execution_count": 5,
   "id": "e5e1a4ef-8cbc-43c7-b869-de569923c7df",
   "metadata": {},
   "outputs": [
    {
     "name": "stdout",
     "output_type": "stream",
     "text": [
      "database created\n"
     ]
    }
   ],
   "source": [
    "try:\n",
    "    cur.execute(\"create database myfirstdb\")\n",
    "    print(\"database created\")\n",
    "except psycopg2.Error as e:\n",
    "    print(e)"
   ]
  },
  {
   "cell_type": "code",
   "execution_count": 6,
   "id": "62a03522-9331-42f0-92ac-fdf6096d4dc5",
   "metadata": {},
   "outputs": [],
   "source": [
    "cur.close()\n",
    "conn.close() #closing old connections"
   ]
  },
  {
   "cell_type": "code",
   "execution_count": 7,
   "id": "9324a512-e311-4b34-bd23-52b9396f0cfd",
   "metadata": {},
   "outputs": [
    {
     "name": "stdout",
     "output_type": "stream",
     "text": [
      "myfirstdb is connected\n"
     ]
    }
   ],
   "source": [
    "try:\n",
    "    conn = psycopg2.connect(\"host=localhost dbname=myfirstdb user=postgres password=1234\")\n",
    "    print('myfirstdb is connected')\n",
    "except psycopg2.Error as e:\n",
    "    print(e)"
   ]
  },
  {
   "cell_type": "code",
   "execution_count": 8,
   "id": "95f41207-f10a-40e0-a900-2d7318ab0b2c",
   "metadata": {},
   "outputs": [
    {
     "name": "stdout",
     "output_type": "stream",
     "text": [
      "cursor added\n"
     ]
    }
   ],
   "source": [
    "try:\n",
    "    cur = conn.cursor()\n",
    "    print(\"cursor added\")\n",
    "except psycopg2.Error as e:\n",
    "    print(e)"
   ]
  },
  {
   "cell_type": "code",
   "execution_count": 9,
   "id": "d15c7982-0310-4430-b197-1c6a1732692f",
   "metadata": {},
   "outputs": [],
   "source": [
    "conn.set_session(autocommit=True)"
   ]
  },
  {
   "cell_type": "code",
   "execution_count": 10,
   "id": "f747496c-4ed9-428a-8e69-9cfc1d865011",
   "metadata": {},
   "outputs": [
    {
     "name": "stdout",
     "output_type": "stream",
     "text": [
      "table created\n"
     ]
    }
   ],
   "source": [
    "try:\n",
    "    cur.execute(\"create table students (student_id int, name varchar, gender varchar, subject varchar, marks int);\")\n",
    "    print(\"table created\")\n",
    "except psycopg2.Error as e:\n",
    "    print(e)"
   ]
  },
  {
   "cell_type": "code",
   "execution_count": 12,
   "id": "d30cd8dc-a64f-48d7-bd62-eed945dac750",
   "metadata": {},
   "outputs": [
    {
     "name": "stdout",
     "output_type": "stream",
     "text": [
      "data inserted successfully\n"
     ]
    }
   ],
   "source": [
    "try:\n",
    "    cur.execute(\"insert into students (student_id,name,gender,subject,marks)\\\n",
    "                values (%s,%s,%s,%s,%s)\",\\\n",
    "               (1,\"Raj\",\"male\",\"science\",98))\n",
    "    print(\"data inserted successfully\")\n",
    "except psycopg2.Error as e:\n",
    "    print(e)"
   ]
  },
  {
   "cell_type": "code",
   "execution_count": 14,
   "id": "af27adca-bc22-4b4c-8fcf-0b9b0f4a3097",
   "metadata": {},
   "outputs": [],
   "source": [
    "try:\n",
    "    cur.execute(\"select * from students\")\n",
    "except psycopg2.Error as e:\n",
    "    print(e)"
   ]
  },
  {
   "cell_type": "code",
   "execution_count": 15,
   "id": "50bd91d4-033a-4fc0-bb83-394e52abd014",
   "metadata": {},
   "outputs": [
    {
     "name": "stdout",
     "output_type": "stream",
     "text": [
      "(1, 'Raj', 'male', 'science', 98)\n"
     ]
    }
   ],
   "source": [
    "row = cur.fetchone()\n",
    "while row:\n",
    "    print(row)\n",
    "    row = cur.fetchone()"
   ]
  },
  {
   "cell_type": "code",
   "execution_count": 16,
   "id": "1c17df0f-8b53-419e-8c00-27f6c79cee24",
   "metadata": {},
   "outputs": [],
   "source": [
    "# closing the connections\n",
    "cur.close()\n",
    "conn.close()"
   ]
  },
  {
   "cell_type": "code",
   "execution_count": null,
   "id": "9a1d6f88-b510-415f-9103-a9aac48f8a03",
   "metadata": {},
   "outputs": [],
   "source": []
  }
 ],
 "metadata": {
  "kernelspec": {
   "display_name": "Python 3 (ipykernel)",
   "language": "python",
   "name": "python3"
  },
  "language_info": {
   "codemirror_mode": {
    "name": "ipython",
    "version": 3
   },
   "file_extension": ".py",
   "mimetype": "text/x-python",
   "name": "python",
   "nbconvert_exporter": "python",
   "pygments_lexer": "ipython3",
   "version": "3.12.3"
  }
 },
 "nbformat": 4,
 "nbformat_minor": 5
}
